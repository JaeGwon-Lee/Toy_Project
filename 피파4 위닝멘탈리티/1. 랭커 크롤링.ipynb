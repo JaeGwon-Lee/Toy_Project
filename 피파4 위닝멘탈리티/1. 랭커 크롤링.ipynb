{
 "cells": [
  {
   "cell_type": "code",
   "execution_count": 1,
   "id": "popular-tunnel",
   "metadata": {},
   "outputs": [],
   "source": [
    "from selenium import webdriver\n",
    "import time\n",
    "from bs4 import BeautifulSoup\n",
    "import pandas as pd"
   ]
  },
  {
   "cell_type": "code",
   "execution_count": 10,
   "id": "detected-northern",
   "metadata": {},
   "outputs": [],
   "source": [
    "driver = webdriver.Chrome('c:/chromedriver/chromedriver.exe')\n",
    "url = 'http://fifaonline4.nexon.com/datacenter/rank?n4seasonno=36'\n",
    "driver.get(url)"
   ]
  },
  {
   "cell_type": "code",
   "execution_count": 11,
   "id": "monthly-commerce",
   "metadata": {},
   "outputs": [],
   "source": [
    "def go_nextpage_10():\n",
    "    nextpage_10 = driver.find_element_by_css_selector('#middle > div > div > div.board_list.datacenter_rank > div.pagination > div > a.btn_next_list.ajaxNav')\n",
    "    nextpage_10.click()\n",
    "    time.sleep(1)\n",
    "\n",
    "def go_nextpage(i):\n",
    "    nextpage = driver.find_element_by_css_selector('#middle > div > div > div.board_list.datacenter_rank > div.pagination > div > ul > li:nth-child('+str(i)+') > a')\n",
    "    nextpage.click()\n",
    "    time.sleep(1)\n",
    "\n",
    "def get_ranker():\n",
    "    html = driver.page_source\n",
    "    soup = BeautifulSoup(html,'lxml')\n",
    "    number=[]; name=[]\n",
    "    \n",
    "    for i in list(range(1,21)):\n",
    "        tmp = soup.select('#middle > div > div > div.board_list.datacenter_rank > div.content.datacenter_rank_list > div > div.tbody > div:nth-child('+str(i)+') > span.td.rank_coach > span.coach_wrap > span.name.profile_pointer')\n",
    "        data = str(tmp[0])\n",
    "        number.append(data[data.index('n=\"')+3 : data.index('\">')])\n",
    "        name.append(data[data.index('\">')+2 : data.index('</')])\n",
    "    return number, name"
   ]
  },
  {
   "cell_type": "code",
   "execution_count": 13,
   "id": "little-bible",
   "metadata": {},
   "outputs": [],
   "source": [
    "ranker_number = []\n",
    "ranker_name = []\n",
    "\n",
    "#1위~200위\n",
    "number, name = get_ranker()\n",
    "ranker_number = ranker_number + number\n",
    "ranker_name = ranker_name + name\n",
    "\n",
    "for i in list(range(2,11)):\n",
    "    go_nextpage(i)\n",
    "    number, name = get_ranker()\n",
    "    ranker_number = ranker_number + number\n",
    "    ranker_name = ranker_name + name\n",
    "\n",
    "#201위~10000위\n",
    "for i in range(49):\n",
    "    go_nextpage_10()\n",
    "    number, name = get_ranker()\n",
    "    ranker_number = ranker_number + number\n",
    "    ranker_name = ranker_name + name\n",
    "\n",
    "    for i in list(range(2,11)):\n",
    "        go_nextpage(i)\n",
    "        number, name = get_ranker()\n",
    "        ranker_number = ranker_number + number\n",
    "        ranker_name = ranker_name + name"
   ]
  },
  {
   "cell_type": "code",
   "execution_count": 14,
   "id": "adjacent-struggle",
   "metadata": {},
   "outputs": [
    {
     "data": {
      "text/html": [
       "<div>\n",
       "<style scoped>\n",
       "    .dataframe tbody tr th:only-of-type {\n",
       "        vertical-align: middle;\n",
       "    }\n",
       "\n",
       "    .dataframe tbody tr th {\n",
       "        vertical-align: top;\n",
       "    }\n",
       "\n",
       "    .dataframe thead th {\n",
       "        text-align: right;\n",
       "    }\n",
       "</style>\n",
       "<table border=\"1\" class=\"dataframe\">\n",
       "  <thead>\n",
       "    <tr style=\"text-align: right;\">\n",
       "      <th></th>\n",
       "      <th>이름</th>\n",
       "      <th>계정번호</th>\n",
       "    </tr>\n",
       "    <tr>\n",
       "      <th>순위</th>\n",
       "      <th></th>\n",
       "      <th></th>\n",
       "    </tr>\n",
       "  </thead>\n",
       "  <tbody>\n",
       "    <tr>\n",
       "      <th>1</th>\n",
       "      <td>WhizFox김유민</td>\n",
       "      <td>1222944439</td>\n",
       "    </tr>\n",
       "    <tr>\n",
       "      <th>2</th>\n",
       "      <td>대학생아닙니다</td>\n",
       "      <td>266802834</td>\n",
       "    </tr>\n",
       "    <tr>\n",
       "      <th>3</th>\n",
       "      <td>GalaxyXG윤창근</td>\n",
       "      <td>1256577701</td>\n",
       "    </tr>\n",
       "    <tr>\n",
       "      <th>4</th>\n",
       "      <td>PainT박지민</td>\n",
       "      <td>988037554</td>\n",
       "    </tr>\n",
       "    <tr>\n",
       "      <th>5</th>\n",
       "      <td>SaddlerSeongMin</td>\n",
       "      <td>1927285294</td>\n",
       "    </tr>\n",
       "    <tr>\n",
       "      <th>...</th>\n",
       "      <td>...</td>\n",
       "      <td>...</td>\n",
       "    </tr>\n",
       "    <tr>\n",
       "      <th>9996</th>\n",
       "      <td>분위기쐐신</td>\n",
       "      <td>1139086293</td>\n",
       "    </tr>\n",
       "    <tr>\n",
       "      <th>9997</th>\n",
       "      <td>김길령</td>\n",
       "      <td>434176910</td>\n",
       "    </tr>\n",
       "    <tr>\n",
       "      <th>9998</th>\n",
       "      <td>스톤샤워</td>\n",
       "      <td>1692793046</td>\n",
       "    </tr>\n",
       "    <tr>\n",
       "      <th>9999</th>\n",
       "      <td>POSITIVE하카</td>\n",
       "      <td>1927477745</td>\n",
       "    </tr>\n",
       "    <tr>\n",
       "      <th>10000</th>\n",
       "      <td>소보루바람</td>\n",
       "      <td>350295891</td>\n",
       "    </tr>\n",
       "  </tbody>\n",
       "</table>\n",
       "<p>10000 rows × 2 columns</p>\n",
       "</div>"
      ],
      "text/plain": [
       "                    이름        계정번호\n",
       "순위                                \n",
       "1           WhizFox김유민  1222944439\n",
       "2              대학생아닙니다   266802834\n",
       "3          GalaxyXG윤창근  1256577701\n",
       "4             PainT박지민   988037554\n",
       "5      SaddlerSeongMin  1927285294\n",
       "...                ...         ...\n",
       "9996             분위기쐐신  1139086293\n",
       "9997               김길령   434176910\n",
       "9998              스톤샤워  1692793046\n",
       "9999        POSITIVE하카  1927477745\n",
       "10000            소보루바람   350295891\n",
       "\n",
       "[10000 rows x 2 columns]"
      ]
     },
     "execution_count": 14,
     "metadata": {},
     "output_type": "execute_result"
    }
   ],
   "source": [
    "ranker = {'순위':list(range(1,10001)),'이름':ranker_name,'계정번호':ranker_number}\n",
    "ranker = pd.DataFrame(ranker)\n",
    "ranker"
   ]
  },
  {
   "cell_type": "code",
   "execution_count": 15,
   "id": "express-practice",
   "metadata": {},
   "outputs": [
    {
     "data": {
      "text/html": [
       "<div>\n",
       "<style scoped>\n",
       "    .dataframe tbody tr th:only-of-type {\n",
       "        vertical-align: middle;\n",
       "    }\n",
       "\n",
       "    .dataframe tbody tr th {\n",
       "        vertical-align: top;\n",
       "    }\n",
       "\n",
       "    .dataframe thead th {\n",
       "        text-align: right;\n",
       "    }\n",
       "</style>\n",
       "<table border=\"1\" class=\"dataframe\">\n",
       "  <thead>\n",
       "    <tr style=\"text-align: right;\">\n",
       "      <th></th>\n",
       "      <th>이름</th>\n",
       "      <th>계정번호</th>\n",
       "    </tr>\n",
       "    <tr>\n",
       "      <th>순위</th>\n",
       "      <th></th>\n",
       "      <th></th>\n",
       "    </tr>\n",
       "  </thead>\n",
       "  <tbody>\n",
       "  </tbody>\n",
       "</table>\n",
       "</div>"
      ],
      "text/plain": [
       "Empty DataFrame\n",
       "Columns: [이름, 계정번호]\n",
       "Index: []"
      ]
     },
     "execution_count": 15,
     "metadata": {},
     "output_type": "execute_result"
    }
   ],
   "source": [
    "ranker[ranker.duplicated()==True]"
   ]
  },
  {
   "cell_type": "code",
   "execution_count": 17,
   "id": "worse-lending",
   "metadata": {},
   "outputs": [],
   "source": [
    "ranker.to_csv('ranker_202104.txt')"
   ]
  },
  {
   "cell_type": "code",
   "execution_count": null,
   "id": "direct-salvation",
   "metadata": {},
   "outputs": [],
   "source": []
  }
 ],
 "metadata": {
  "kernelspec": {
   "display_name": "Python 3",
   "language": "python",
   "name": "python3"
  },
  "language_info": {
   "codemirror_mode": {
    "name": "ipython",
    "version": 3
   },
   "file_extension": ".py",
   "mimetype": "text/x-python",
   "name": "python",
   "nbconvert_exporter": "python",
   "pygments_lexer": "ipython3",
   "version": "3.7.10"
  }
 },
 "nbformat": 4,
 "nbformat_minor": 5
}
